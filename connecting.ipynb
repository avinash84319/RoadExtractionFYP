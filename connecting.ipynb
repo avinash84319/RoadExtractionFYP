{
 "cells": [
  {
   "cell_type": "code",
   "execution_count": 1,
   "metadata": {},
   "outputs": [],
   "source": [
    "import numpy as np\n",
    "import matplotlib.pyplot as plt\n",
    "import random"
   ]
  },
  {
   "cell_type": "code",
   "execution_count": 206,
   "metadata": {},
   "outputs": [],
   "source": [
    "## config\n",
    "num_lines = 1\n",
    "image_size = (100,100)\n",
    "\n",
    "## segment\n",
    "segment_threshold = 3\n",
    "slope_threshold = 2"
   ]
  },
  {
   "cell_type": "markdown",
   "metadata": {},
   "source": [
    "# Generating trail data"
   ]
  },
  {
   "cell_type": "code",
   "execution_count": 207,
   "metadata": {},
   "outputs": [],
   "source": [
    "# create some examples for us to understand \n",
    "\n",
    "def create_examples(num_lines=num_lines, image_size=image_size):\n",
    "    \"\"\"\n",
    "    This function creates an image with random straight lines with different slopes,\n",
    "    broken into different segments for image processing tasks.\n",
    "    \"\"\"\n",
    "\n",
    "    image = np.zeros(image_size, dtype=np.uint8)\n",
    "\n",
    "    for _ in range(num_lines):\n",
    "        # Random slope (positive or negative)\n",
    "        slope = np.random.uniform(-2, 2)  \n",
    "\n",
    "        # Random intercept\n",
    "        intercept = np.random.randint(0, image_size[1])  \n",
    "\n",
    "        # Generate x-values\n",
    "        for i in range(image_size[0]):\n",
    "            x = int(slope * i + intercept)\n",
    "\n",
    "            # Ensure the point is within bounds\n",
    "            if 0 <= x < image_size[1] and random.random() > 0.2:  # 20% chance of missing pixels to break the line\n",
    "                image[i, x] = 1\n",
    "\n",
    "    return image"
   ]
  },
  {
   "cell_type": "code",
   "execution_count": 208,
   "metadata": {},
   "outputs": [
    {
     "data": {
      "text/plain": [
       "<matplotlib.image.AxesImage at 0x1fb15fe4090>"
      ]
     },
     "execution_count": 208,
     "metadata": {},
     "output_type": "execute_result"
    },
    {
     "data": {
      "image/png": "[encoded data removed]",
      "text/plain": [
       "<Figure size 640x480 with 1 Axes>"
      ]
     },
     "metadata": {},
     "output_type": "display_data"
    }
   ],
   "source": [
    "plt.imshow(create_examples(), cmap='gray')"
   ]
  },
  {
   "cell_type": "markdown",
   "metadata": {},
   "source": [
    "# Identify Segments"
   ]
  },
  {
   "cell_type": "code",
   "execution_count": 209,
   "metadata": {},
   "outputs": [],
   "source": [
    "def find_segments(image=create_examples()):\n",
    "    \"\"\"\n",
    "    This function takes an image and returns the segments and slopes of the lines in the image.\n",
    "    the segments are defined by the segment_threshold ( no of minimum pixels in a segment)\n",
    "    \"\"\"\n",
    "\n",
    "    # plot the original image\n",
    "    plt.imshow(image, cmap='gray')\n",
    "    plt.show()\n",
    "    \n",
    "    segments = {}\n",
    "\n",
    "    # finding the individual segments\n",
    "    for i in range(image.shape[0]):\n",
    "        for j in range(image.shape[1]):\n",
    "            if image[i,j] == 1:\n",
    "\n",
    "                # print(f\"on pixel {i},{j}\")\n",
    "\n",
    "                # neighbours considere wil be shape of 1,1\n",
    "                neighbours = [(i-1,j-1), (i-1,j), (i-1,j+1), (i,j-1), (i,j+1), (i+1,j-1), (i+1,j), (i+1,j+1)]\n",
    "\n",
    "                # checking which nieghbours are 1\n",
    "                neighbours_1 = [neighbour for neighbour in neighbours if neighbour[0] >= 0 and neighbour[0] < image.shape[0] and neighbour[1] >= 0 and neighbour[1] < image.shape[1] and image[neighbour[0],neighbour[1]] == 1]\n",
    "\n",
    "                # print(f\"with 1s are {neighbours_1}\")\n",
    "\n",
    "                # now this nieghbours_1 can be part of different segments , we will vote based on rules\n",
    "                # 1. if only one neighbour is 1, then it is part of that segment\n",
    "                # 2. if more than one neighbour is 1, then it is part of the segment with most no of pixels\n",
    "                # 3. if no neighbour is 1, then it is a new segment\n",
    "\n",
    "                if len(neighbours_1) == 0:\n",
    "                    # new segment\n",
    "                    segments[segments.__len__()] = [(i,j)]\n",
    "                else:\n",
    "                    # part of some segment\n",
    "                    segment_ids = [segment_id for segment_id, segment in segments.items() if neighbours_1[0] in segment]\n",
    "                    if len(segment_ids) == 1:\n",
    "                        # part of only one segment\n",
    "                        segments[segment_ids[0]].append((i,j))\n",
    "                    elif len(segment_ids) ==0:\n",
    "                        # in starting if niebhour is 1 but still not put in any segment\n",
    "                        segments[segments.__len__()] = [(i,j)]\n",
    "                    else:\n",
    "                        # part of multiple segments\n",
    "                        segment_id = max(segment_ids, key=lambda x: len(segments[x]))\n",
    "                        segments[segment_id].append((i,j))\n",
    "                        \n",
    "    return segments,image"
   ]
  },
  {
   "cell_type": "code",
   "execution_count": 210,
   "metadata": {},
   "outputs": [
    {
     "data": {
      "image/png": "[encoded data removed]",
      "text/plain": [
       "<Figure size 640x480 with 1 Axes>"
      ]
     },
     "metadata": {},
     "output_type": "display_data"
    },
    {
     "data": {
      "text/plain": [
       "({0: [(0, 42), (1, 41), (2, 40)],\n",
       "  1: [(4, 39), (5, 38)],\n",
       "  2: [(7, 37), (8, 36), (9, 36), (10, 35), (11, 34)],\n",
       "  3: [(14, 32), (15, 32), (16, 31)],\n",
       "  4: [(19, 29), (20, 29)],\n",
       "  5: [(22, 27), (23, 27), (24, 26), (25, 25), (26, 25)],\n",
       "  6: [(31, 21), (32, 21), (33, 20), (34, 20), (35, 19), (36, 18)],\n",
       "  7: [(38, 17)],\n",
       "  8: [(40, 16), (41, 15), (42, 14), (43, 14)],\n",
       "  9: [(45, 12), (46, 12), (47, 11), (48, 11), (49, 10)],\n",
       "  10: [(51, 9), (52, 8), (53, 7)],\n",
       "  11: [(56, 5), (57, 5), (58, 4), (59, 3)],\n",
       "  12: [(61, 2), (62, 1), (63, 1), (64, 0), (65, 0), (66, 0)]},\n",
       " array([[0, 0, 0, ..., 0, 0, 0],\n",
       "        [0, 0, 0, ..., 0, 0, 0],\n",
       "        [0, 0, 0, ..., 0, 0, 0],\n",
       "        ...,\n",
       "        [0, 0, 0, ..., 0, 0, 0],\n",
       "        [0, 0, 0, ..., 0, 0, 0],\n",
       "        [0, 0, 0, ..., 0, 0, 0]], dtype=uint8))"
      ]
     },
     "execution_count": 210,
     "metadata": {},
     "output_type": "execute_result"
    }
   ],
   "source": [
    "find_segments(create_examples())"
   ]
  },
  {
   "cell_type": "code",
   "execution_count": 211,
   "metadata": {},
   "outputs": [],
   "source": [
    "def calc_slope(x, y):\n",
    "    \"\"\"\n",
    "    This function takes a segment and returns the slope of the line.\n",
    "    \"\"\"\n",
    "\n",
    "    if len(x) == 1:\n",
    "        return 0\n",
    "\n",
    "    if y[-1] == y[0]:\n",
    "        return 1000\n",
    "    \n",
    "    # calculate the slope\n",
    "    slope = (x[-1] - x[0]) / (y[-1] - y[0])\n",
    "\n",
    "    return slope"
   ]
  },
  {
   "cell_type": "code",
   "execution_count": 212,
   "metadata": {},
   "outputs": [],
   "source": [
    "def merging_segments(segments,image, slope_threshold = slope_threshold):\n",
    "    \"\"\"\n",
    "    This function takes the segments and merges them based on the slope of the lines.4\n",
    "\n",
    "    slope_threshold: the maximum difference in slope between two segments to merge them.\n",
    "    \"\"\"\n",
    "\n",
    "    # getting the slopes of the segments\n",
    "    slopes = {}\n",
    "    for segment_id, segment in segments.items():\n",
    "        x = [point[0] for point in segment]\n",
    "        y = [point[1] for point in segment]\n",
    "        slope = calc_slope(x,y)\n",
    "        slopes[segment_id] = slope\n",
    "\n",
    "    print(f\"slopes are {slopes}\")\n",
    "\n",
    "    # merging the segments\n",
    "    merged_segments = {}\n",
    "\n",
    "    for slope_id, slope in slopes.items():\n",
    "        if len(merged_segments) == 0:\n",
    "            merged_segments[slope_id] = {'segments': [slope_id], 'slope': slope}\n",
    "        else:\n",
    "            # check if the slope is similar to the previous segment\n",
    "            if abs(slope - merged_segments[list(merged_segments.keys())[-1]]['slope']) < slope_threshold:\n",
    "                merged_segments[list(merged_segments.keys())[-1]]['segments'].append(slope_id)\n",
    "                merged_segments[list(merged_segments.keys())[-1]]['slope'] = (merged_segments[list(merged_segments.keys())[-1]]['slope'] + slope) / 2\n",
    "            else:\n",
    "                merged_segments[slope_id] = {'segments': [slope_id], 'slope': slope}\n",
    "        \n",
    "\n",
    "    print(f\"len of segments {len(segments)}\")\n",
    "    print(f\"len of merged segments {len(merged_segments)}\")\n",
    "    \n",
    "    final_merged_segments = []\n",
    "\n",
    "    for id,value in merged_segments.items():\n",
    "        merged_segment = []\n",
    "        for segment_id in value['segments']:\n",
    "            merged_segment += segments[segment_id]\n",
    "        final_merged_segments.append(merged_segment)\n",
    "\n",
    "    return final_merged_segments,image"
   ]
  },
  {
   "cell_type": "code",
   "execution_count": 213,
   "metadata": {},
   "outputs": [
    {
     "data": {
      "image/png": "[encoded data removed]",
      "text/plain": [
       "<Figure size 640x480 with 1 Axes>"
      ]
     },
     "metadata": {},
     "output_type": "display_data"
    },
    {
     "name": "stdout",
     "output_type": "stream",
     "text": [
      "slopes are {0: 0, 1: 0, 2: 1000}\n",
      "len of segments 3\n",
      "len of merged segments 2\n"
     ]
    }
   ],
   "source": [
    "image = create_examples()\n",
    "segments,image = find_segments(image)\n",
    "final_merged_segments,image = merging_segments(segments,image)"
   ]
  },
  {
   "cell_type": "code",
   "execution_count": 216,
   "metadata": {},
   "outputs": [],
   "source": [
    "def merge_lines_in_image(segments,image):\n",
    "    \"\"\"\n",
    "    This function takes an image and returns the merged segments of the lines in the image.\n",
    "    \"\"\"\n",
    "\n",
    "    print(f\"final_merged segments are {segments}\")\n",
    "\n",
    "    points_to_1 = []\n",
    "\n",
    "    # in every segment there is a line, we will find the points on the line which are not in the segment\n",
    "    # we will try to deal in integer points only\n",
    "\n",
    "    for segment in segments:\n",
    "        \n",
    "        for idx,point in enumerate(segment):\n",
    "\n",
    "            # find all the points on the line between this point and the next point\n",
    "\n",
    "            if idx == len(segment) - 1:\n",
    "                break\n",
    "\n",
    "            x1,y1 = point\n",
    "            x2,y2 = segment[idx+1]\n",
    "\n",
    "            # print(f\"points are {x1,y1} and {x2,y2}\")\n",
    "\n",
    "            slope = calc_slope([y1,y2],[x1,x2])\n",
    "\n",
    "            if slope == 0:\n",
    "                for y in range(y1,y2):\n",
    "                    points_to_1.append((x1,y))\n",
    "            else:\n",
    "                for y in range(y1,y2):\n",
    "                    x = int((y - y1)/slope + x1)\n",
    "                    points_to_1.append((x,y))\n",
    "\n",
    "    print(f\"points to 1 are {points_to_1}\")\n",
    "\n",
    "    # put these points to 1 in the image\n",
    "    for point in points_to_1:\n",
    "        x,y = point\n",
    "        if x >= 0 and x < image.shape[0] and y >= 0 and y < image.shape[1]:\n",
    "            image[x,y] = 1\n",
    "\n",
    "    plt.imshow(image, cmap='gray')\n",
    "    "
   ]
  },
  {
   "cell_type": "code",
   "execution_count": 222,
   "metadata": {},
   "outputs": [
    {
     "data": {
      "image/png": "[encoded data removed]",
      "text/plain": [
       "<Figure size 640x480 with 1 Axes>"
      ]
     },
     "metadata": {},
     "output_type": "display_data"
    },
    {
     "name": "stdout",
     "output_type": "stream",
     "text": [
      "slopes are {0: 1.0, 1: 0, 2: 1.0, 3: 1.0, 4: 0, 5: 1.0, 6: 1.0, 7: 1.0, 8: 0, 9: 1.0, 10: 1.0}\n",
      "len of segments 11\n",
      "len of merged segments 1\n",
      "final_merged segments are [[(0, 58), (1, 59), (3, 61), (4, 63), (5, 64), (6, 65), (7, 67), (8, 68), (9, 69), (12, 73), (13, 75), (14, 76), (15, 77), (16, 79), (17, 80), (18, 81), (21, 85), (22, 86), (24, 89), (26, 92), (27, 93), (29, 96), (30, 97), (31, 98)]]\n",
      "points to 1 are [(0, 58), (1, 59), (2, 60), (3, 61), (3, 62), (4, 63), (5, 64), (6, 65), (6, 66), (7, 67), (8, 68), (9, 69), (9, 70), (10, 71), (11, 72), (12, 73), (12, 74), (13, 75), (14, 76), (15, 77), (15, 78), (16, 79), (17, 80), (18, 81), (18, 82), (19, 83), (20, 84), (21, 85), (22, 86), (22, 87), (23, 88), (24, 89), (24, 90), (25, 91), (26, 92), (27, 93), (27, 94), (28, 95), (29, 96), (30, 97)]\n"
     ]
    },
    {
     "data": {
      "image/png": "[encoded data removed]",
      "text/plain": [
       "<Figure size 640x480 with 1 Axes>"
      ]
     },
     "metadata": {},
     "output_type": "display_data"
    }
   ],
   "source": [
    "# testing the pipeline\n",
    "image = create_examples()\n",
    "segments,image = find_segments(image)\n",
    "segments,image = merging_segments(segments,image)\n",
    "merge_lines_in_image(segments,image)"
   ]
  },
  {
   "cell_type": "code",
   "execution_count": null,
   "metadata": {},
   "outputs": [],
   "source": []
  }
 ],
 "metadata": {
  "kernelspec": {
   "display_name": "Python 3",
   "language": "python",
   "name": "python3"
  },
  "language_info": {
   "codemirror_mode": {
    "name": "ipython",
    "version": 3
   },
   "file_extension": ".py",
   "mimetype": "text/x-python",
   "name": "python",
   "nbconvert_exporter": "python",
   "pygments_lexer": "ipython3",
   "version": "3.11.3"
  }
 },
 "nbformat": 4,
 "nbformat_minor": 2
}
